{
 "cells": [
  {
   "cell_type": "code",
   "execution_count": 7,
   "id": "033a2c48",
   "metadata": {},
   "outputs": [],
   "source": [
    "#Install Dependencies\n",
    "from urllib.request import urlopen\n",
    "import os.path\n",
    "from bs4 import BeautifulSoup\n",
    "import pandas as pd\n",
    "import numpy as np"
   ]
  },
  {
   "cell_type": "code",
   "execution_count": 2,
   "id": "91770b76",
   "metadata": {},
   "outputs": [],
   "source": [
    "#Create list of URLs\n",
    "base_url = \"http://rotoguru1.com/cgi-bin/fyday.pl?week=1&year=2017&game=dk&scsv=1\"\n",
    "url_start = \"http://rotoguru1.com/cgi-bin/fyday.pl?week=\"\n",
    "url_end = \"&game=dk&scsv=1\"\n",
    "weeks = [i for i in range(1, 19)]\n",
    "years = [i for i in range(2021, 2022)]\n",
    "urls = [url_start + str(week) + \"&year=\" + str(year) + url_end for year in years for week in weeks]"
   ]
  },
  {
   "cell_type": "code",
   "execution_count": 3,
   "id": "0ea0bb07",
   "metadata": {},
   "outputs": [],
   "source": [
    "#Grab Table from pages\n",
    "data = []\n",
    "\n",
    "for url in urls:\n",
    "    page = urlopen(url).read()\n",
    "    soup = BeautifulSoup(page)\n",
    "    table = soup.find(\"pre\")\n",
    "    data.append(''.join(table.text.splitlines(keepends=True)[1:]))\n",
    "\n",
    "text = ''.join(data)"
   ]
  },
  {
   "cell_type": "code",
   "execution_count": 20,
   "id": "30053848",
   "metadata": {},
   "outputs": [],
   "source": [
    "#Write total text to file\n",
    "current_path = os.getcwd()\n",
    "text_path = os.path.dirname(current_path) + \"\\Data\\dk_data2021.txt\"\n",
    "text_file = open(text_path, \"wt\")\n",
    "n = text_file.write(text)\n",
    "text_file.close()"
   ]
  },
  {
   "cell_type": "code",
   "execution_count": 21,
   "id": "5d7f75c2",
   "metadata": {},
   "outputs": [],
   "source": [
    "#Read text file and write to csv\n",
    "dk_data = pd.read_csv(text_path, sep = \";\", header = None, names = [\"Week\", \"Year\", \"GID\", \"Name\", \"Pos\", \"Team\", \"h/a\", \"Oppt\", \"DK points\", \"DK salary\"])\n",
    "dk_data.head\n",
    "csv_path = os.path.dirname(current_path) + \"\\Data\\dk_data2021.csv\"\n",
    "dk_data.to_csv(csv_path, index=False)"
   ]
  }
 ],
 "metadata": {
  "interpreter": {
   "hash": "55d46ccf661a7af14aca20fc5555c82243d3943c15e3e562ae715710baeb274f"
  },
  "kernelspec": {
   "display_name": "Python 3.7.9 ('OM')",
   "language": "python",
   "name": "python3"
  },
  "language_info": {
   "codemirror_mode": {
    "name": "ipython",
    "version": 3
   },
   "file_extension": ".py",
   "mimetype": "text/x-python",
   "name": "python",
   "nbconvert_exporter": "python",
   "pygments_lexer": "ipython3",
   "version": "3.7.13"
  }
 },
 "nbformat": 4,
 "nbformat_minor": 5
}
